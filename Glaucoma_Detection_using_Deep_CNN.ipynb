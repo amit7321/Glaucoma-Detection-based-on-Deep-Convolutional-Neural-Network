{
  "nbformat": 4,
  "nbformat_minor": 0,
  "metadata": {
    "colab": {
      "name": "Glaucoma Detection using  Deep CNN.ipynb",
      "provenance": []
    },
    "kernelspec": {
      "name": "python3",
      "display_name": "Python 3"
    },
    "language_info": {
      "name": "python"
    }
  },
  "cells": [
    {
      "cell_type": "code",
      "metadata": {
        "id": "rWdiSee3giTK"
      },
      "source": [
        "from keras.preprocessing.image import ImageDataGenerator\n",
        "from keras.models import Model\n",
        "from keras.layers import Input, Conv2D, MaxPooling2D, GlobalAveragePooling2D\n",
        "from keras.layers import BatchNormalization, Activation, Dropout, Flatten, Dense\n",
        "from keras import backend as K\n",
        "from keras import optimizers\n",
        "from keras.callbacks import ModelCheckpoint, ReduceLROnPlateau\n",
        "from imgaug import augmenters as iaa\n",
        "import inspect\n",
        "from tensorflow.keras.optimizers import Adam\n",
        "import pandas as pd\n",
        "import os\n",
        "from shutil import copy\n",
        "from keras.models import Sequential\n",
        "import matplotlib.pyplot as plt\n",
        "import seaborn as sns\n",
        "import sklearn.metrics as metrics\n",
        "import numpy as np\n",
        "from sklearn.metrics import confusion_matrix\n",
        "from sklearn.metrics import plot_confusion_matrix"
      ],
      "execution_count": 19,
      "outputs": []
    },
    {
      "cell_type": "code",
      "metadata": {
        "id": "7OvARN-4pJFR"
      },
      "source": [
        "img_width, img_height = 256, 256\n",
        "input_shape = (img_width, img_height, 3)"
      ],
      "execution_count": 2,
      "outputs": []
    },
    {
      "cell_type": "code",
      "metadata": {
        "colab": {
          "base_uri": "https://localhost:8080/",
          "height": 424
        },
        "id": "Mb7e61gNxunF",
        "outputId": "17bb99a3-e340-4893-d148-ef620d0e0ff4"
      },
      "source": [
        "img_data = pd.read_csv('/content/drive/MyDrive/Colab Notebooks/soft computing/Project/ORIGA/glaucoma.csv')\n",
        "img_data"
      ],
      "execution_count": 3,
      "outputs": [
        {
          "output_type": "execute_result",
          "data": {
            "text/html": [
              "<div>\n",
              "<style scoped>\n",
              "    .dataframe tbody tr th:only-of-type {\n",
              "        vertical-align: middle;\n",
              "    }\n",
              "\n",
              "    .dataframe tbody tr th {\n",
              "        vertical-align: top;\n",
              "    }\n",
              "\n",
              "    .dataframe thead th {\n",
              "        text-align: right;\n",
              "    }\n",
              "</style>\n",
              "<table border=\"1\" class=\"dataframe\">\n",
              "  <thead>\n",
              "    <tr style=\"text-align: right;\">\n",
              "      <th></th>\n",
              "      <th>Filename</th>\n",
              "      <th>ExpCDR</th>\n",
              "      <th>Eye</th>\n",
              "      <th>Set</th>\n",
              "      <th>Glaucoma</th>\n",
              "    </tr>\n",
              "  </thead>\n",
              "  <tbody>\n",
              "    <tr>\n",
              "      <th>0</th>\n",
              "      <td>001.jpg</td>\n",
              "      <td>0.7097</td>\n",
              "      <td>OD</td>\n",
              "      <td>A</td>\n",
              "      <td>0</td>\n",
              "    </tr>\n",
              "    <tr>\n",
              "      <th>1</th>\n",
              "      <td>002.jpg</td>\n",
              "      <td>0.6953</td>\n",
              "      <td>OS</td>\n",
              "      <td>A</td>\n",
              "      <td>0</td>\n",
              "    </tr>\n",
              "    <tr>\n",
              "      <th>2</th>\n",
              "      <td>003.jpg</td>\n",
              "      <td>0.9629</td>\n",
              "      <td>OS</td>\n",
              "      <td>A</td>\n",
              "      <td>0</td>\n",
              "    </tr>\n",
              "    <tr>\n",
              "      <th>3</th>\n",
              "      <td>004.jpg</td>\n",
              "      <td>0.7246</td>\n",
              "      <td>OD</td>\n",
              "      <td>A</td>\n",
              "      <td>0</td>\n",
              "    </tr>\n",
              "    <tr>\n",
              "      <th>4</th>\n",
              "      <td>005.jpg</td>\n",
              "      <td>0.6138</td>\n",
              "      <td>OS</td>\n",
              "      <td>A</td>\n",
              "      <td>0</td>\n",
              "    </tr>\n",
              "    <tr>\n",
              "      <th>...</th>\n",
              "      <td>...</td>\n",
              "      <td>...</td>\n",
              "      <td>...</td>\n",
              "      <td>...</td>\n",
              "      <td>...</td>\n",
              "    </tr>\n",
              "    <tr>\n",
              "      <th>645</th>\n",
              "      <td>646.jpg</td>\n",
              "      <td>0.6560</td>\n",
              "      <td>OD</td>\n",
              "      <td>A</td>\n",
              "      <td>1</td>\n",
              "    </tr>\n",
              "    <tr>\n",
              "      <th>646</th>\n",
              "      <td>647.jpg</td>\n",
              "      <td>0.7365</td>\n",
              "      <td>OD</td>\n",
              "      <td>A</td>\n",
              "      <td>1</td>\n",
              "    </tr>\n",
              "    <tr>\n",
              "      <th>647</th>\n",
              "      <td>648.jpg</td>\n",
              "      <td>0.5101</td>\n",
              "      <td>OS</td>\n",
              "      <td>A</td>\n",
              "      <td>1</td>\n",
              "    </tr>\n",
              "    <tr>\n",
              "      <th>648</th>\n",
              "      <td>649.jpg</td>\n",
              "      <td>0.5227</td>\n",
              "      <td>OD</td>\n",
              "      <td>B</td>\n",
              "      <td>0</td>\n",
              "    </tr>\n",
              "    <tr>\n",
              "      <th>649</th>\n",
              "      <td>650.jpg</td>\n",
              "      <td>0.6195</td>\n",
              "      <td>OS</td>\n",
              "      <td>B</td>\n",
              "      <td>1</td>\n",
              "    </tr>\n",
              "  </tbody>\n",
              "</table>\n",
              "<p>650 rows × 5 columns</p>\n",
              "</div>"
            ],
            "text/plain": [
              "    Filename  ExpCDR Eye Set  Glaucoma\n",
              "0    001.jpg  0.7097  OD   A         0\n",
              "1    002.jpg  0.6953  OS   A         0\n",
              "2    003.jpg  0.9629  OS   A         0\n",
              "3    004.jpg  0.7246  OD   A         0\n",
              "4    005.jpg  0.6138  OS   A         0\n",
              "..       ...     ...  ..  ..       ...\n",
              "645  646.jpg  0.6560  OD   A         1\n",
              "646  647.jpg  0.7365  OD   A         1\n",
              "647  648.jpg  0.5101  OS   A         1\n",
              "648  649.jpg  0.5227  OD   B         0\n",
              "649  650.jpg  0.6195  OS   B         1\n",
              "\n",
              "[650 rows x 5 columns]"
            ]
          },
          "metadata": {},
          "execution_count": 3
        }
      ]
    },
    {
      "cell_type": "code",
      "metadata": {
        "id": "0827fFi5qcso"
      },
      "source": [
        "batch_size = 16\n",
        "epochs = 100"
      ],
      "execution_count": 4,
      "outputs": []
    },
    {
      "cell_type": "code",
      "metadata": {
        "id": "FlfRa69GFPTj"
      },
      "source": [
        "if K.image_data_format() == 'channels_first':\n",
        "    input_shape = (3, img_width, img_height)\n",
        "else:\n",
        "    input_shape = (img_width, img_height, 3)"
      ],
      "execution_count": 5,
      "outputs": []
    },
    {
      "cell_type": "code",
      "metadata": {
        "id": "y7tTfCiFqg49"
      },
      "source": [
        "input = Input(shape=input_shape)"
      ],
      "execution_count": 6,
      "outputs": []
    },
    {
      "cell_type": "code",
      "metadata": {
        "id": "BxbIARICqkGw"
      },
      "source": [
        "model = Sequential()\n",
        "model.add(Conv2D(32, (2, 2), input_shape=input_shape))\n",
        "model.add(Activation('relu'))\n",
        "model.add(MaxPooling2D(pool_size=(2, 2)))\n",
        " \n",
        "model.add(Conv2D(32, (2, 2)))\n",
        "model.add(Activation('relu'))\n",
        "model.add(MaxPooling2D(pool_size=(2, 2)))\n",
        " \n",
        "model.add(Conv2D(64, (2, 2)))\n",
        "model.add(Activation('relu'))\n",
        "model.add(MaxPooling2D(pool_size=(2, 2)))\n",
        "\n",
        "model.add(Conv2D(64, (2, 2)))\n",
        "model.add(Activation('relu'))\n",
        "model.add(MaxPooling2D(pool_size=(2, 2)))\n",
        " \n",
        "model.add(Flatten())\n",
        "model.add(Dense(64))\n",
        "model.add(Activation('relu'))\n",
        "model.add(Dropout(0.5))\n",
        "model.add(Dense(1))\n",
        "model.add(Activation('sigmoid'))"
      ],
      "execution_count": 7,
      "outputs": []
    },
    {
      "cell_type": "code",
      "metadata": {
        "colab": {
          "base_uri": "https://localhost:8080/"
        },
        "id": "6NTT0Pa-rIwp",
        "outputId": "8f589db1-0e53-4041-8196-cc4aaef33dc9"
      },
      "source": [
        "model.summary()\n",
        "model.compile(loss = \"binary_crossentropy\", optimizer = Adam(lr=0.0001, beta_1=0.9, beta_2=0.999, epsilon=None, decay=0.0, amsgrad=False), metrics=[\"accuracy\"])\n"
      ],
      "execution_count": 8,
      "outputs": [
        {
          "output_type": "stream",
          "name": "stdout",
          "text": [
            "Model: \"sequential\"\n",
            "_________________________________________________________________\n",
            "Layer (type)                 Output Shape              Param #   \n",
            "=================================================================\n",
            "conv2d (Conv2D)              (None, 255, 255, 32)      416       \n",
            "_________________________________________________________________\n",
            "activation (Activation)      (None, 255, 255, 32)      0         \n",
            "_________________________________________________________________\n",
            "max_pooling2d (MaxPooling2D) (None, 127, 127, 32)      0         \n",
            "_________________________________________________________________\n",
            "conv2d_1 (Conv2D)            (None, 126, 126, 32)      4128      \n",
            "_________________________________________________________________\n",
            "activation_1 (Activation)    (None, 126, 126, 32)      0         \n",
            "_________________________________________________________________\n",
            "max_pooling2d_1 (MaxPooling2 (None, 63, 63, 32)        0         \n",
            "_________________________________________________________________\n",
            "conv2d_2 (Conv2D)            (None, 62, 62, 64)        8256      \n",
            "_________________________________________________________________\n",
            "activation_2 (Activation)    (None, 62, 62, 64)        0         \n",
            "_________________________________________________________________\n",
            "max_pooling2d_2 (MaxPooling2 (None, 31, 31, 64)        0         \n",
            "_________________________________________________________________\n",
            "conv2d_3 (Conv2D)            (None, 30, 30, 64)        16448     \n",
            "_________________________________________________________________\n",
            "activation_3 (Activation)    (None, 30, 30, 64)        0         \n",
            "_________________________________________________________________\n",
            "max_pooling2d_3 (MaxPooling2 (None, 15, 15, 64)        0         \n",
            "_________________________________________________________________\n",
            "flatten (Flatten)            (None, 14400)             0         \n",
            "_________________________________________________________________\n",
            "dense (Dense)                (None, 64)                921664    \n",
            "_________________________________________________________________\n",
            "activation_4 (Activation)    (None, 64)                0         \n",
            "_________________________________________________________________\n",
            "dropout (Dropout)            (None, 64)                0         \n",
            "_________________________________________________________________\n",
            "dense_1 (Dense)              (None, 1)                 65        \n",
            "_________________________________________________________________\n",
            "activation_5 (Activation)    (None, 1)                 0         \n",
            "=================================================================\n",
            "Total params: 950,977\n",
            "Trainable params: 950,977\n",
            "Non-trainable params: 0\n",
            "_________________________________________________________________\n"
          ]
        },
        {
          "output_type": "stream",
          "name": "stderr",
          "text": [
            "/usr/local/lib/python3.7/dist-packages/keras/optimizer_v2/optimizer_v2.py:356: UserWarning: The `lr` argument is deprecated, use `learning_rate` instead.\n",
            "  \"The `lr` argument is deprecated, use `learning_rate` instead.\")\n"
          ]
        }
      ]
    },
    {
      "cell_type": "code",
      "metadata": {
        "id": "wunMtqjA2oFc"
      },
      "source": [
        "# Initiate the train and test generators with data Augumentation\n",
        "sometimes = lambda aug: iaa.Sometimes(0.6, aug)\n",
        "seq = iaa.Sequential([\n",
        "                      iaa.GaussianBlur(sigma=(0 , 1.0)),\n",
        "                      iaa.Sharpen(alpha=1, lightness=0),\n",
        "                      iaa.CoarseDropout(p=0.1, size_percent=0.15),\n",
        "                              sometimes(iaa.Affine(\n",
        "                                                    scale={\"x\": (0.8, 1.2), \"y\": (0.8, 1.2)},\n",
        "                                                    translate_percent={\"x\": (-0.2, 0.2), \"y\": (-0.2, 0.2)},\n",
        "                                                    rotate=(-30, 30),\n",
        "                                                    shear=(-16, 16)))\n",
        "                    ])"
      ],
      "execution_count": 9,
      "outputs": []
    },
    {
      "cell_type": "code",
      "metadata": {
        "colab": {
          "base_uri": "https://localhost:8080/"
        },
        "id": "HfhR-LQe51jL",
        "outputId": "92a8fafc-3b09-4ea5-cfcc-78f37cffc13e"
      },
      "source": [
        "train_datagen = ImageDataGenerator(rotation_range=40,\n",
        "                                   width_shift_range=0.2,\n",
        "                                   height_shift_range=0.2,\n",
        "                                   rescale=1./255,\n",
        "                                   shear_range=0.2,\n",
        "                                   zoom_range=0.2,\n",
        "                                   horizontal_flip=True,\n",
        "                                   fill_mode='nearest')\n",
        "\n",
        "test_datagen = ImageDataGenerator(rescale=1./255)\n",
        "\n",
        "training_set = train_datagen.flow_from_directory(\n",
        "    '/content/drive/MyDrive/Colab Notebooks/soft computing/Project/ORIGA/train',\n",
        "     target_size = (img_height, img_width),\n",
        "     batch_size = batch_size,\n",
        "     class_mode = 'binary',\n",
        "     subset = 'training',\n",
        "     shuffle=True)\n",
        "\n",
        "\n",
        "\n",
        "test_set = test_datagen.flow_from_directory(\n",
        "    '/content/drive/MyDrive/Colab Notebooks/soft computing/Project/ORIGA/test',\n",
        "     target_size = (img_height, img_width),\n",
        "     batch_size = batch_size,\n",
        "     shuffle = False,\n",
        "     class_mode = 'binary')"
      ],
      "execution_count": 10,
      "outputs": [
        {
          "output_type": "stream",
          "name": "stdout",
          "text": [
            "Found 455 images belonging to 2 classes.\n",
            "Found 64 images belonging to 2 classes.\n"
          ]
        }
      ]
    },
    {
      "cell_type": "code",
      "metadata": {
        "colab": {
          "base_uri": "https://localhost:8080/"
        },
        "id": "r50p--DFBMsE",
        "outputId": "2fcf4442-ef1c-46f9-a057-c039346bdb01"
      },
      "source": [
        "history = model.fit(\n",
        "    training_set,\n",
        "    epochs=epochs,\n",
        "    validation_data=test_set,\n",
        "    verbose = 1\n",
        ")"
      ],
      "execution_count": 11,
      "outputs": [
        {
          "output_type": "stream",
          "name": "stdout",
          "text": [
            "Epoch 1/100\n",
            "29/29 [==============================] - 147s 5s/step - loss: 0.6836 - accuracy: 0.5714 - val_loss: 0.6908 - val_accuracy: 0.5000\n",
            "Epoch 2/100\n",
            "29/29 [==============================] - 33s 1s/step - loss: 0.6897 - accuracy: 0.5363 - val_loss: 0.6880 - val_accuracy: 0.5625\n",
            "Epoch 3/100\n",
            "29/29 [==============================] - 33s 1s/step - loss: 0.6824 - accuracy: 0.5670 - val_loss: 0.6901 - val_accuracy: 0.5000\n",
            "Epoch 4/100\n",
            "29/29 [==============================] - 32s 1s/step - loss: 0.6752 - accuracy: 0.5670 - val_loss: 0.6876 - val_accuracy: 0.5156\n",
            "Epoch 5/100\n",
            "29/29 [==============================] - 32s 1s/step - loss: 0.6726 - accuracy: 0.5648 - val_loss: 0.6762 - val_accuracy: 0.5625\n",
            "Epoch 6/100\n",
            "29/29 [==============================] - 33s 1s/step - loss: 0.6596 - accuracy: 0.6066 - val_loss: 0.6646 - val_accuracy: 0.5781\n",
            "Epoch 7/100\n",
            "29/29 [==============================] - 33s 1s/step - loss: 0.6466 - accuracy: 0.6132 - val_loss: 0.6577 - val_accuracy: 0.5312\n",
            "Epoch 8/100\n",
            "29/29 [==============================] - 33s 1s/step - loss: 0.6260 - accuracy: 0.6593 - val_loss: 0.6467 - val_accuracy: 0.6094\n",
            "Epoch 9/100\n",
            "29/29 [==============================] - 33s 1s/step - loss: 0.6144 - accuracy: 0.6813 - val_loss: 0.6530 - val_accuracy: 0.6094\n",
            "Epoch 10/100\n",
            "29/29 [==============================] - 33s 1s/step - loss: 0.5861 - accuracy: 0.6989 - val_loss: 0.6431 - val_accuracy: 0.5469\n",
            "Epoch 11/100\n",
            "29/29 [==============================] - 33s 1s/step - loss: 0.5798 - accuracy: 0.7231 - val_loss: 0.6449 - val_accuracy: 0.5625\n",
            "Epoch 12/100\n",
            "29/29 [==============================] - 33s 1s/step - loss: 0.5736 - accuracy: 0.6989 - val_loss: 0.6810 - val_accuracy: 0.6250\n",
            "Epoch 13/100\n",
            "29/29 [==============================] - 33s 1s/step - loss: 0.5857 - accuracy: 0.7033 - val_loss: 0.6471 - val_accuracy: 0.6094\n",
            "Epoch 14/100\n",
            "29/29 [==============================] - 33s 1s/step - loss: 0.5559 - accuracy: 0.7253 - val_loss: 0.6333 - val_accuracy: 0.5781\n",
            "Epoch 15/100\n",
            "29/29 [==============================] - 33s 1s/step - loss: 0.5628 - accuracy: 0.7187 - val_loss: 0.6537 - val_accuracy: 0.5938\n",
            "Epoch 16/100\n",
            "29/29 [==============================] - 33s 1s/step - loss: 0.5510 - accuracy: 0.7187 - val_loss: 0.6482 - val_accuracy: 0.5938\n",
            "Epoch 17/100\n",
            "29/29 [==============================] - 33s 1s/step - loss: 0.5576 - accuracy: 0.7165 - val_loss: 0.6207 - val_accuracy: 0.6406\n",
            "Epoch 18/100\n",
            "29/29 [==============================] - 33s 1s/step - loss: 0.5306 - accuracy: 0.7209 - val_loss: 0.6447 - val_accuracy: 0.5938\n",
            "Epoch 19/100\n",
            "29/29 [==============================] - 33s 1s/step - loss: 0.5272 - accuracy: 0.7363 - val_loss: 0.6216 - val_accuracy: 0.6250\n",
            "Epoch 20/100\n",
            "29/29 [==============================] - 33s 1s/step - loss: 0.5171 - accuracy: 0.7319 - val_loss: 0.6464 - val_accuracy: 0.6094\n",
            "Epoch 21/100\n",
            "29/29 [==============================] - 33s 1s/step - loss: 0.5287 - accuracy: 0.7429 - val_loss: 0.6658 - val_accuracy: 0.6094\n",
            "Epoch 22/100\n",
            "29/29 [==============================] - 33s 1s/step - loss: 0.5330 - accuracy: 0.7495 - val_loss: 0.6585 - val_accuracy: 0.5938\n",
            "Epoch 23/100\n",
            "29/29 [==============================] - 33s 1s/step - loss: 0.5410 - accuracy: 0.7429 - val_loss: 0.6809 - val_accuracy: 0.6406\n",
            "Epoch 24/100\n",
            "29/29 [==============================] - 33s 1s/step - loss: 0.5048 - accuracy: 0.7670 - val_loss: 0.6434 - val_accuracy: 0.6094\n",
            "Epoch 25/100\n",
            "29/29 [==============================] - 33s 1s/step - loss: 0.5108 - accuracy: 0.7495 - val_loss: 0.6857 - val_accuracy: 0.6406\n",
            "Epoch 26/100\n",
            "29/29 [==============================] - 33s 1s/step - loss: 0.4914 - accuracy: 0.7780 - val_loss: 0.6529 - val_accuracy: 0.6406\n",
            "Epoch 27/100\n",
            "29/29 [==============================] - 33s 1s/step - loss: 0.4699 - accuracy: 0.7802 - val_loss: 0.6426 - val_accuracy: 0.6719\n",
            "Epoch 28/100\n",
            "29/29 [==============================] - 33s 1s/step - loss: 0.5005 - accuracy: 0.7582 - val_loss: 0.5975 - val_accuracy: 0.6719\n",
            "Epoch 29/100\n",
            "29/29 [==============================] - 33s 1s/step - loss: 0.5013 - accuracy: 0.7363 - val_loss: 0.6305 - val_accuracy: 0.6406\n",
            "Epoch 30/100\n",
            "29/29 [==============================] - 33s 1s/step - loss: 0.4694 - accuracy: 0.7868 - val_loss: 0.6224 - val_accuracy: 0.6719\n",
            "Epoch 31/100\n",
            "29/29 [==============================] - 33s 1s/step - loss: 0.4818 - accuracy: 0.7626 - val_loss: 0.6577 - val_accuracy: 0.6406\n",
            "Epoch 32/100\n",
            "29/29 [==============================] - 32s 1s/step - loss: 0.4482 - accuracy: 0.8198 - val_loss: 0.6432 - val_accuracy: 0.6250\n",
            "Epoch 33/100\n",
            "29/29 [==============================] - 33s 1s/step - loss: 0.5058 - accuracy: 0.7516 - val_loss: 0.6291 - val_accuracy: 0.6719\n",
            "Epoch 34/100\n",
            "29/29 [==============================] - 33s 1s/step - loss: 0.4396 - accuracy: 0.7934 - val_loss: 0.6167 - val_accuracy: 0.6406\n",
            "Epoch 35/100\n",
            "29/29 [==============================] - 33s 1s/step - loss: 0.4674 - accuracy: 0.7802 - val_loss: 0.6361 - val_accuracy: 0.6562\n",
            "Epoch 36/100\n",
            "29/29 [==============================] - 33s 1s/step - loss: 0.4478 - accuracy: 0.7978 - val_loss: 0.6095 - val_accuracy: 0.7031\n",
            "Epoch 37/100\n",
            "29/29 [==============================] - 33s 1s/step - loss: 0.4521 - accuracy: 0.7868 - val_loss: 0.6797 - val_accuracy: 0.6250\n",
            "Epoch 38/100\n",
            "29/29 [==============================] - 33s 1s/step - loss: 0.4849 - accuracy: 0.7802 - val_loss: 0.5855 - val_accuracy: 0.6562\n",
            "Epoch 39/100\n",
            "29/29 [==============================] - 33s 1s/step - loss: 0.4670 - accuracy: 0.8022 - val_loss: 0.5706 - val_accuracy: 0.7031\n",
            "Epoch 40/100\n",
            "29/29 [==============================] - 33s 1s/step - loss: 0.4479 - accuracy: 0.7978 - val_loss: 0.5996 - val_accuracy: 0.6719\n",
            "Epoch 41/100\n",
            "29/29 [==============================] - 33s 1s/step - loss: 0.4326 - accuracy: 0.8066 - val_loss: 0.5763 - val_accuracy: 0.6094\n",
            "Epoch 42/100\n",
            "29/29 [==============================] - 33s 1s/step - loss: 0.4473 - accuracy: 0.7824 - val_loss: 0.6138 - val_accuracy: 0.6875\n",
            "Epoch 43/100\n",
            "29/29 [==============================] - 33s 1s/step - loss: 0.4542 - accuracy: 0.7868 - val_loss: 0.5982 - val_accuracy: 0.6875\n",
            "Epoch 44/100\n",
            "29/29 [==============================] - 33s 1s/step - loss: 0.4281 - accuracy: 0.8242 - val_loss: 0.6119 - val_accuracy: 0.6562\n",
            "Epoch 45/100\n",
            "29/29 [==============================] - 33s 1s/step - loss: 0.4585 - accuracy: 0.7868 - val_loss: 0.5863 - val_accuracy: 0.7031\n",
            "Epoch 46/100\n",
            "29/29 [==============================] - 33s 1s/step - loss: 0.4264 - accuracy: 0.7978 - val_loss: 0.5705 - val_accuracy: 0.6562\n",
            "Epoch 47/100\n",
            "29/29 [==============================] - 33s 1s/step - loss: 0.4325 - accuracy: 0.8110 - val_loss: 0.5793 - val_accuracy: 0.6719\n",
            "Epoch 48/100\n",
            "29/29 [==============================] - 33s 1s/step - loss: 0.4142 - accuracy: 0.8198 - val_loss: 0.5726 - val_accuracy: 0.6875\n",
            "Epoch 49/100\n",
            "29/29 [==============================] - 33s 1s/step - loss: 0.4276 - accuracy: 0.7780 - val_loss: 0.5940 - val_accuracy: 0.6875\n",
            "Epoch 50/100\n",
            "29/29 [==============================] - 33s 1s/step - loss: 0.4395 - accuracy: 0.8000 - val_loss: 0.5538 - val_accuracy: 0.6406\n",
            "Epoch 51/100\n",
            "29/29 [==============================] - 33s 1s/step - loss: 0.4240 - accuracy: 0.8132 - val_loss: 0.5505 - val_accuracy: 0.6406\n",
            "Epoch 52/100\n",
            "29/29 [==============================] - 33s 1s/step - loss: 0.4551 - accuracy: 0.7802 - val_loss: 0.5389 - val_accuracy: 0.7031\n",
            "Epoch 53/100\n",
            "29/29 [==============================] - 33s 1s/step - loss: 0.4487 - accuracy: 0.7824 - val_loss: 0.5614 - val_accuracy: 0.6562\n",
            "Epoch 54/100\n",
            "29/29 [==============================] - 33s 1s/step - loss: 0.4597 - accuracy: 0.7824 - val_loss: 0.5785 - val_accuracy: 0.6719\n",
            "Epoch 55/100\n",
            "29/29 [==============================] - 33s 1s/step - loss: 0.4442 - accuracy: 0.7824 - val_loss: 0.6473 - val_accuracy: 0.6875\n",
            "Epoch 56/100\n",
            "29/29 [==============================] - 33s 1s/step - loss: 0.4503 - accuracy: 0.7890 - val_loss: 0.5468 - val_accuracy: 0.6562\n",
            "Epoch 57/100\n",
            "29/29 [==============================] - 33s 1s/step - loss: 0.4509 - accuracy: 0.7736 - val_loss: 0.5720 - val_accuracy: 0.7031\n",
            "Epoch 58/100\n",
            "29/29 [==============================] - 33s 1s/step - loss: 0.4599 - accuracy: 0.7978 - val_loss: 0.5427 - val_accuracy: 0.6719\n",
            "Epoch 59/100\n",
            "29/29 [==============================] - 32s 1s/step - loss: 0.4180 - accuracy: 0.8044 - val_loss: 0.5472 - val_accuracy: 0.6719\n",
            "Epoch 60/100\n",
            "29/29 [==============================] - 33s 1s/step - loss: 0.4174 - accuracy: 0.8066 - val_loss: 0.5464 - val_accuracy: 0.6562\n",
            "Epoch 61/100\n",
            "29/29 [==============================] - 33s 1s/step - loss: 0.4299 - accuracy: 0.7912 - val_loss: 0.5768 - val_accuracy: 0.7031\n",
            "Epoch 62/100\n",
            "29/29 [==============================] - 32s 1s/step - loss: 0.4283 - accuracy: 0.7736 - val_loss: 0.5476 - val_accuracy: 0.6875\n",
            "Epoch 63/100\n",
            "29/29 [==============================] - 32s 1s/step - loss: 0.4563 - accuracy: 0.7714 - val_loss: 0.6495 - val_accuracy: 0.6875\n",
            "Epoch 64/100\n",
            "29/29 [==============================] - 32s 1s/step - loss: 0.4124 - accuracy: 0.8066 - val_loss: 0.5525 - val_accuracy: 0.6719\n",
            "Epoch 65/100\n",
            "29/29 [==============================] - 33s 1s/step - loss: 0.4221 - accuracy: 0.7890 - val_loss: 0.5554 - val_accuracy: 0.6875\n",
            "Epoch 66/100\n",
            "29/29 [==============================] - 32s 1s/step - loss: 0.4424 - accuracy: 0.7824 - val_loss: 0.5689 - val_accuracy: 0.6875\n",
            "Epoch 67/100\n",
            "29/29 [==============================] - 33s 1s/step - loss: 0.4139 - accuracy: 0.8088 - val_loss: 0.5413 - val_accuracy: 0.7031\n",
            "Epoch 68/100\n",
            "29/29 [==============================] - 33s 1s/step - loss: 0.4327 - accuracy: 0.7846 - val_loss: 0.5355 - val_accuracy: 0.6719\n",
            "Epoch 69/100\n",
            "29/29 [==============================] - 33s 1s/step - loss: 0.4010 - accuracy: 0.8198 - val_loss: 0.5515 - val_accuracy: 0.7031\n",
            "Epoch 70/100\n",
            "29/29 [==============================] - 33s 1s/step - loss: 0.4038 - accuracy: 0.8176 - val_loss: 0.5460 - val_accuracy: 0.6562\n",
            "Epoch 71/100\n",
            "29/29 [==============================] - 33s 1s/step - loss: 0.4382 - accuracy: 0.7824 - val_loss: 0.5542 - val_accuracy: 0.6562\n",
            "Epoch 72/100\n",
            "29/29 [==============================] - 33s 1s/step - loss: 0.4203 - accuracy: 0.8286 - val_loss: 0.5505 - val_accuracy: 0.6406\n",
            "Epoch 73/100\n",
            "29/29 [==============================] - 33s 1s/step - loss: 0.4185 - accuracy: 0.8044 - val_loss: 0.5474 - val_accuracy: 0.6875\n",
            "Epoch 74/100\n",
            "29/29 [==============================] - 33s 1s/step - loss: 0.3953 - accuracy: 0.8088 - val_loss: 0.5518 - val_accuracy: 0.7188\n",
            "Epoch 75/100\n",
            "29/29 [==============================] - 33s 1s/step - loss: 0.3955 - accuracy: 0.8220 - val_loss: 0.5665 - val_accuracy: 0.6719\n",
            "Epoch 76/100\n",
            "29/29 [==============================] - 33s 1s/step - loss: 0.4025 - accuracy: 0.7978 - val_loss: 0.5127 - val_accuracy: 0.6875\n",
            "Epoch 77/100\n",
            "29/29 [==============================] - 35s 1s/step - loss: 0.3989 - accuracy: 0.8154 - val_loss: 0.5472 - val_accuracy: 0.6875\n",
            "Epoch 78/100\n",
            "29/29 [==============================] - 33s 1s/step - loss: 0.4038 - accuracy: 0.8176 - val_loss: 0.5675 - val_accuracy: 0.7188\n",
            "Epoch 79/100\n",
            "29/29 [==============================] - 33s 1s/step - loss: 0.4028 - accuracy: 0.8154 - val_loss: 0.5749 - val_accuracy: 0.7031\n",
            "Epoch 80/100\n",
            "29/29 [==============================] - 33s 1s/step - loss: 0.4115 - accuracy: 0.8000 - val_loss: 0.5514 - val_accuracy: 0.7031\n",
            "Epoch 81/100\n",
            "29/29 [==============================] - 33s 1s/step - loss: 0.4070 - accuracy: 0.8044 - val_loss: 0.5099 - val_accuracy: 0.6719\n",
            "Epoch 82/100\n",
            "29/29 [==============================] - 33s 1s/step - loss: 0.4013 - accuracy: 0.8264 - val_loss: 0.5093 - val_accuracy: 0.6875\n",
            "Epoch 83/100\n",
            "29/29 [==============================] - 33s 1s/step - loss: 0.4061 - accuracy: 0.8154 - val_loss: 0.5238 - val_accuracy: 0.7031\n",
            "Epoch 84/100\n",
            "29/29 [==============================] - 33s 1s/step - loss: 0.4165 - accuracy: 0.8154 - val_loss: 0.5321 - val_accuracy: 0.7031\n",
            "Epoch 85/100\n",
            "29/29 [==============================] - 33s 1s/step - loss: 0.4241 - accuracy: 0.8044 - val_loss: 0.4874 - val_accuracy: 0.7031\n",
            "Epoch 86/100\n",
            "29/29 [==============================] - 33s 1s/step - loss: 0.3846 - accuracy: 0.8330 - val_loss: 0.5744 - val_accuracy: 0.7188\n",
            "Epoch 87/100\n",
            "29/29 [==============================] - 33s 1s/step - loss: 0.4203 - accuracy: 0.8132 - val_loss: 0.5128 - val_accuracy: 0.6719\n",
            "Epoch 88/100\n",
            "29/29 [==============================] - 33s 1s/step - loss: 0.4169 - accuracy: 0.8066 - val_loss: 0.5346 - val_accuracy: 0.7344\n",
            "Epoch 89/100\n",
            "29/29 [==============================] - 33s 1s/step - loss: 0.4136 - accuracy: 0.7780 - val_loss: 0.4914 - val_accuracy: 0.7188\n",
            "Epoch 90/100\n",
            "29/29 [==============================] - 33s 1s/step - loss: 0.3780 - accuracy: 0.8132 - val_loss: 0.5108 - val_accuracy: 0.7188\n",
            "Epoch 91/100\n",
            "29/29 [==============================] - 33s 1s/step - loss: 0.3881 - accuracy: 0.8198 - val_loss: 0.5052 - val_accuracy: 0.6875\n",
            "Epoch 92/100\n",
            "29/29 [==============================] - 33s 1s/step - loss: 0.3927 - accuracy: 0.8308 - val_loss: 0.4944 - val_accuracy: 0.6875\n",
            "Epoch 93/100\n",
            "29/29 [==============================] - 33s 1s/step - loss: 0.4157 - accuracy: 0.8176 - val_loss: 0.5652 - val_accuracy: 0.6406\n",
            "Epoch 94/100\n",
            "29/29 [==============================] - 33s 1s/step - loss: 0.4148 - accuracy: 0.7956 - val_loss: 0.5600 - val_accuracy: 0.6562\n",
            "Epoch 95/100\n",
            "29/29 [==============================] - 33s 1s/step - loss: 0.3748 - accuracy: 0.8154 - val_loss: 0.5634 - val_accuracy: 0.6562\n",
            "Epoch 96/100\n",
            "29/29 [==============================] - 33s 1s/step - loss: 0.4163 - accuracy: 0.7956 - val_loss: 0.4935 - val_accuracy: 0.7344\n",
            "Epoch 97/100\n",
            "29/29 [==============================] - 33s 1s/step - loss: 0.4046 - accuracy: 0.7802 - val_loss: 0.5012 - val_accuracy: 0.7188\n",
            "Epoch 98/100\n",
            "29/29 [==============================] - 33s 1s/step - loss: 0.3808 - accuracy: 0.8154 - val_loss: 0.4879 - val_accuracy: 0.7188\n",
            "Epoch 99/100\n",
            "29/29 [==============================] - 33s 1s/step - loss: 0.4111 - accuracy: 0.8000 - val_loss: 0.5023 - val_accuracy: 0.7031\n",
            "Epoch 100/100\n",
            "29/29 [==============================] - 33s 1s/step - loss: 0.3883 - accuracy: 0.8352 - val_loss: 0.4920 - val_accuracy: 0.7500\n"
          ]
        }
      ]
    },
    {
      "cell_type": "code",
      "metadata": {
        "colab": {
          "base_uri": "https://localhost:8080/",
          "height": 573
        },
        "id": "cVPefcr1WXIn",
        "outputId": "d3fe76d1-a006-4cf5-e81a-8c31e51dae4c"
      },
      "source": [
        "plt.plot(history.history['accuracy'])\n",
        "plt.plot(history.history['val_accuracy'])\n",
        "plt.title('model accuracy')\n",
        "plt.ylabel('accuracy')\n",
        "plt.xlabel('epoch')\n",
        "plt.legend(['train', 'test'], loc='upper left')\n",
        "plt.show()\n",
        "\n",
        "\n",
        "plt.plot(history.history['loss'])\n",
        "plt.plot(history.history['val_loss'])\n",
        "plt.title('model loss')\n",
        "plt.ylabel('loss')\n",
        "plt.xlabel('epoch')\n",
        "plt.legend(['train', 'test'], loc='upper left')\n",
        "plt.show()"
      ],
      "execution_count": 12,
      "outputs": [
        {
          "output_type": "display_data",
          "data": {
            "image/png": "[encoded data removed]",
            "text/plain": [
              "<Figure size 432x288 with 1 Axes>"
            ]
          },
          "metadata": {
            "needs_background": "light"
          }
        },
        {
          "output_type": "display_data",
          "data": {
            "image/png": "[encoded data removed]",
            "text/plain": [
              "<Figure size 432x288 with 1 Axes>"
            ]
          },
          "metadata": {
            "needs_background": "light"
          }
        }
      ]
    },
    {
      "cell_type": "code",
      "metadata": {
        "colab": {
          "base_uri": "https://localhost:8080/"
        },
        "id": "Eyhpcl3szSKA",
        "outputId": "4ed75c37-78cb-40ea-d559-d349e8aea0e1"
      },
      "source": [
        "print('Classification Report')\n",
        "print(metrics.classification_report(test_set.classes, y_pred))"
      ],
      "execution_count": 32,
      "outputs": [
        {
          "output_type": "stream",
          "name": "stdout",
          "text": [
            "Classification Report\n",
            "              precision    recall  f1-score   support\n",
            "\n",
            "           0       0.50      1.00      0.67        32\n",
            "           1       0.00      0.00      0.00        32\n",
            "\n",
            "    accuracy                           0.50        64\n",
            "   macro avg       0.25      0.50      0.33        64\n",
            "weighted avg       0.25      0.50      0.33        64\n",
            "\n"
          ]
        },
        {
          "output_type": "stream",
          "name": "stderr",
          "text": [
            "/usr/local/lib/python3.7/dist-packages/sklearn/metrics/_classification.py:1272: UndefinedMetricWarning: Precision and F-score are ill-defined and being set to 0.0 in labels with no predicted samples. Use `zero_division` parameter to control this behavior.\n",
            "  _warn_prf(average, modifier, msg_start, len(result))\n"
          ]
        }
      ]
    },
    {
      "cell_type": "code",
      "metadata": {
        "colab": {
          "base_uri": "https://localhost:8080/"
        },
        "id": "QElsQ2qv35bW",
        "outputId": "cc970f5f-8713-4177-d22e-70879de2f072"
      },
      "source": [
        "cm = metrics.confusion_matrix(test_set.classes, y_pred)\n",
        "print(cm)"
      ],
      "execution_count": 35,
      "outputs": [
        {
          "output_type": "stream",
          "name": "stdout",
          "text": [
            "[[32  0]\n",
            " [32  0]]\n"
          ]
        }
      ]
    },
    {
      "cell_type": "code",
      "metadata": {
        "colab": {
          "base_uri": "https://localhost:8080/",
          "height": 278
        },
        "id": "yZmBQcZavA5U",
        "outputId": "e9541ef5-73fe-4222-86ff-bdce297dcd0c"
      },
      "source": [
        "cm = metrics.confusion_matrix(test_set.classes, y_pred)\n",
        "\n",
        "plt.imshow(cm, cmap=plt.cm.Blues)\n",
        "plt.xlabel(\"Predicted labels\")\n",
        "plt.ylabel(\"True labels\")\n",
        "plt.xticks([], [])\n",
        "plt.yticks([], [])\n",
        "plt.title('Confusion matrix ')\n",
        "plt.colorbar()\n",
        "plt.show()"
      ],
      "execution_count": 31,
      "outputs": [
        {
          "output_type": "display_data",
          "data": {
            "image/png": "[encoded data removed]",
            "text/plain": [
              "<Figure size 432x288 with 2 Axes>"
            ]
          },
          "metadata": {
            "needs_background": "light"
          }
        }
      ]
    },
    {
      "cell_type": "code",
      "metadata": {
        "id": "P-IHHMuhvi79"
      },
      "source": [
        ""
      ],
      "execution_count": null,
      "outputs": []
    }
  ]
}